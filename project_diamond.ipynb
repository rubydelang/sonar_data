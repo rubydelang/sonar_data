{
 "cells": [
  {
   "cell_type": "markdown",
   "id": "86ee5e30-3aa9-4b48-a0d5-17cfabda8090",
   "metadata": {},
   "source": [
    "# Group Project: Determining Diamond Cut Grades Using KNN Classification"
   ]
  },
  {
   "cell_type": "markdown",
   "id": "885149a0-49d2-4f86-bc62-8d8d75bda3ca",
   "metadata": {},
   "source": [
    "**Section 009 Group 2**\n",
    "\n",
    "**Ziqing Wang**<br>**Anna Tao**<br>**Ruby de Lang**"
   ]
  },
  {
   "cell_type": "markdown",
   "id": "ee6b84c2-52ec-477b-86f1-175048a2a1d9",
   "metadata": {},
   "source": [
    "### 1. Introduction"
   ]
  },
  {
   "cell_type": "markdown",
   "id": "74ff5daf-4590-4153-a234-3e90ee3a8d64",
   "metadata": {},
   "source": [
    "The 4Cs: cut, clarity, color, and carat weight, are internationally accepted standards for assessing the quality of a diamond.  Diamond cut grade is a pivotal factor in determining the beauty and value of a diamond.\n",
    "\n",
    "The dataset being used reports on the characteristics of diamonds. \n",
    "We want to use the KNN classification method to predict the cut grades of diamonds."
   ]
  },
  {
   "cell_type": "markdown",
   "id": "34104bd9-a16f-40df-959a-8d8c9760cfb3",
   "metadata": {},
   "source": [
    "The columns of the dataset:\n",
    "* **carat**: a unit of measurement for a diamond's weight.\n",
    "* **cut**: cut grades of diamonds, measured in five scales (high to low): Ideal, Premium, Very good, Good, Fair.\n",
    "* **color**: color is graded on a scale from D (colorless) to Z (light yellow or brown).\n",
    "* **clarity**: the presence of internal and external flaws within a diamond.\n",
    "* **depth**: the distance from the table to the culet (the bottom of the diamond).\n",
    "* **table**: the flat, topmost facet of diamonds.\n",
    "* **price**: The price of diamonds.\n",
    "* **x**: the x-dimension of diamonds.\n",
    "* **y**: the y-dimension of diamonds.\n",
    "* **z**: the z-dimension of diamonds."
   ]
  },
  {
   "cell_type": "markdown",
   "id": "2eb3f84c-1e0c-4d52-85b6-78f14a56f807",
   "metadata": {},
   "source": [
    "### 2. Preliminary exploratory data analysis"
   ]
  },
  {
   "cell_type": "code",
   "execution_count": 1,
   "id": "966a1768-8b35-4a7f-b9b8-569b52172248",
   "metadata": {
    "tags": []
   },
   "outputs": [
    {
     "name": "stderr",
     "output_type": "stream",
     "text": [
      "── \u001b[1mAttaching packages\u001b[22m ─────────────────────────────────────── tidyverse 1.3.2 ──\n",
      "\u001b[32m✔\u001b[39m \u001b[34mggplot2\u001b[39m 3.4.2     \u001b[32m✔\u001b[39m \u001b[34mpurrr  \u001b[39m 1.0.1\n",
      "\u001b[32m✔\u001b[39m \u001b[34mtibble \u001b[39m 3.2.1     \u001b[32m✔\u001b[39m \u001b[34mdplyr  \u001b[39m 1.1.1\n",
      "\u001b[32m✔\u001b[39m \u001b[34mtidyr  \u001b[39m 1.3.0     \u001b[32m✔\u001b[39m \u001b[34mstringr\u001b[39m 1.5.0\n",
      "\u001b[32m✔\u001b[39m \u001b[34mreadr  \u001b[39m 2.1.3     \u001b[32m✔\u001b[39m \u001b[34mforcats\u001b[39m 0.5.2\n",
      "── \u001b[1mConflicts\u001b[22m ────────────────────────────────────────── tidyverse_conflicts() ──\n",
      "\u001b[31m✖\u001b[39m \u001b[34mdplyr\u001b[39m::\u001b[32mfilter()\u001b[39m masks \u001b[34mstats\u001b[39m::filter()\n",
      "\u001b[31m✖\u001b[39m \u001b[34mdplyr\u001b[39m::\u001b[32mlag()\u001b[39m    masks \u001b[34mstats\u001b[39m::lag()\n",
      "── \u001b[1mAttaching packages\u001b[22m ────────────────────────────────────── tidymodels 1.0.0 ──\n",
      "\n",
      "\u001b[32m✔\u001b[39m \u001b[34mbroom       \u001b[39m 1.0.2     \u001b[32m✔\u001b[39m \u001b[34mrsample     \u001b[39m 1.1.1\n",
      "\u001b[32m✔\u001b[39m \u001b[34mdials       \u001b[39m 1.1.0     \u001b[32m✔\u001b[39m \u001b[34mtune        \u001b[39m 1.0.1\n",
      "\u001b[32m✔\u001b[39m \u001b[34minfer       \u001b[39m 1.0.4     \u001b[32m✔\u001b[39m \u001b[34mworkflows   \u001b[39m 1.1.2\n",
      "\u001b[32m✔\u001b[39m \u001b[34mmodeldata   \u001b[39m 1.0.1     \u001b[32m✔\u001b[39m \u001b[34mworkflowsets\u001b[39m 1.0.0\n",
      "\u001b[32m✔\u001b[39m \u001b[34mparsnip     \u001b[39m 1.0.3     \u001b[32m✔\u001b[39m \u001b[34myardstick   \u001b[39m 1.1.0\n",
      "\u001b[32m✔\u001b[39m \u001b[34mrecipes     \u001b[39m 1.0.4     \n",
      "\n",
      "── \u001b[1mConflicts\u001b[22m ───────────────────────────────────────── tidymodels_conflicts() ──\n",
      "\u001b[31m✖\u001b[39m \u001b[34mscales\u001b[39m::\u001b[32mdiscard()\u001b[39m masks \u001b[34mpurrr\u001b[39m::discard()\n",
      "\u001b[31m✖\u001b[39m \u001b[34mdplyr\u001b[39m::\u001b[32mfilter()\u001b[39m   masks \u001b[34mstats\u001b[39m::filter()\n",
      "\u001b[31m✖\u001b[39m \u001b[34mrecipes\u001b[39m::\u001b[32mfixed()\u001b[39m  masks \u001b[34mstringr\u001b[39m::fixed()\n",
      "\u001b[31m✖\u001b[39m \u001b[34mdplyr\u001b[39m::\u001b[32mlag()\u001b[39m      masks \u001b[34mstats\u001b[39m::lag()\n",
      "\u001b[31m✖\u001b[39m \u001b[34myardstick\u001b[39m::\u001b[32mspec()\u001b[39m masks \u001b[34mreadr\u001b[39m::spec()\n",
      "\u001b[31m✖\u001b[39m \u001b[34mrecipes\u001b[39m::\u001b[32mstep()\u001b[39m   masks \u001b[34mstats\u001b[39m::step()\n",
      "\u001b[34m•\u001b[39m Use \u001b[32mtidymodels_prefer()\u001b[39m to resolve common conflicts.\n",
      "\n"
     ]
    },
    {
     "ename": "ERROR",
     "evalue": "Error in library(cowplot): there is no package called ‘cowplot’\n",
     "output_type": "error",
     "traceback": [
      "Error in library(cowplot): there is no package called ‘cowplot’\nTraceback:\n",
      "1. library(cowplot)"
     ]
    }
   ],
   "source": [
    "install.packages(\"tidyverse\")\n",
    "install.packages(\"cowplot\")\n",
    "install.packages(\"tidymodels\")\n",
    "library(tidyverse)\n",
    "library(ggplot2)\n",
    "library(repr)\n",
    "library(tidymodels)\n",
    "library(cowplot)"
   ]
  },
  {
   "cell_type": "markdown",
   "id": "38990570-2b1f-4d7e-b440-7ed13fb5f914",
   "metadata": {
    "tags": []
   },
   "source": [
    "**Reading Data from Online Source Into R**\n",
    "\n",
    "After reading the data, we have 53940 recorded observations."
   ]
  },
  {
   "cell_type": "code",
   "execution_count": null,
   "id": "75586178-ca29-43fa-943b-469c33e01c30",
   "metadata": {
    "tags": []
   },
   "outputs": [],
   "source": [
    "set.seed(2023)\n",
    "\n",
    "diamond_data <- read_csv(\"https://raw.githubusercontent.com/rubydelang/sonar_data/main/diamonds.csv\") |>\n",
    "mutate(cut = as_factor(cut))\n",
    "\n",
    "#head(diamond_data)\n",
    "diamond_data\n",
    "\n",
    "diamond_split <- initial_split(diamond_data, prop = 0.75, strata = cut)\n",
    "diamond_training <- training(diamond_split)\n",
    "diamond_testing <- testing(diamond_split)"
   ]
  },
  {
   "cell_type": "markdown",
   "id": "c2d0b0f3-9f2d-4243-9b51-d8041ac818eb",
   "metadata": {
    "tags": []
   },
   "source": [
    "**Tidy Data**\n",
    "\n",
    "Now looking at the dataset, each row is a single observation, each column is a single variable, with meaningful column names, and each cell contains only a single value. \n",
    "Therefore, the data is already tidy so we do not need take any further actions. <br><br>"
   ]
  },
  {
   "cell_type": "markdown",
   "id": "1f967156-7c51-48a1-86f2-b480c7f2faf4",
   "metadata": {},
   "source": [
    "**Checking for Missing Data** "
   ]
  },
  {
   "cell_type": "markdown",
   "id": "a3b52038-5c84-4ab4-a1e1-ac7103fe73c0",
   "metadata": {},
   "source": [
    "The 'na_rows' counts for the number of rows containing missing data, and the result of 0 means we do not have any missing data in this dataset."
   ]
  },
  {
   "cell_type": "code",
   "execution_count": null,
   "id": "8d967537-10d9-4786-8d5e-cbf8c2951eb8",
   "metadata": {
    "tags": []
   },
   "outputs": [],
   "source": [
    "na_rows <- sum(apply(is.na(diamond_data), 1, any))\n",
    "print(na_rows)\n",
    "summary(diamond_data)"
   ]
  },
  {
   "cell_type": "code",
   "execution_count": null,
   "id": "d69301b2-cf62-4b04-aeda-fe7230a64230",
   "metadata": {},
   "outputs": [],
   "source": [
    "options(repr.plot.width = 13, repr.plot.height = 14)\n",
    "x_cut_graph <- diamond_training |>\n",
    "ggplot(aes(x = cut, y = x, color = cut)) +\n",
    "geom_boxplot() +\n",
    "labs(x =\"cut grades\", y = \"x-dimension of diamonds\", color = \"cut grades\")\n",
    "\n",
    "y_cut_graph <- diamond_training |>\n",
    "ggplot(aes(x = cut, y = y, color = cut)) +\n",
    "geom_boxplot() +\n",
    "labs(x =\"cut grades\", y = \"y-dimension of diamonds\", color = \"cut grades\")\n",
    "\n",
    "z_cut_graph <- diamond_training |>\n",
    "ggplot(aes(x = cut, y = z, color = cut)) +\n",
    "geom_boxplot() +\n",
    "labs(x =\"cut grades\", y = \"z-dimension of diamonds\", color = \"cut grades\")\n",
    "\n",
    "table_cut_graph <- diamond_training |>\n",
    "ggplot(aes(x = cut, y = table, color = cut)) +\n",
    "geom_boxplot() +\n",
    "labs(x =\"cut grades\", y = \"table of diamonds\", color = \"cut grades\")\n",
    "\n",
    "depth_cut_graph <- diamond_training |>\n",
    "ggplot(aes(x = cut, y = depth, color = cut)) +\n",
    "geom_boxplot() +\n",
    "labs(x =\"cut grades\", y = \"depth of diamonds\", color = \"cut grades\")\n",
    "\n",
    "carat_cut_graph <- diamond_training |>\n",
    "ggplot(aes(x = cut, y = carat, color = cut)) +\n",
    "geom_boxplot() +\n",
    "labs(x =\"cut grades\", y = \"carat of diamonds\", color = \"cut grades\")\n",
    "\n",
    "price_cut_graph <- diamond_training |>\n",
    "ggplot(aes(x = cut, y = price, color = cut)) +\n",
    "geom_boxplot() +\n",
    "labs(x =\"cut grades\", y = \"price of diamonds\", color = \"cut grades\")\n",
    "\n",
    "plot_grid(x_cut_graph, y_cut_graph, z_cut_graph, table_cut_graph, depth_cut_graph, carat_cut_graph, price_cut_graph, align = \"h\", ncol = 3)"
   ]
  },
  {
   "cell_type": "markdown",
   "id": "6e1aa8e3-9ea4-499b-a708-a3e5e0e124a5",
   "metadata": {},
   "source": [
    "The more separate the boxes are, the more accurate prediction it will make. Based on the graph, none of them are strongly associated with the cut grades. We can maximize the prediction accuracy by choosing the relatively associated factors like: depth and table."
   ]
  },
  {
   "cell_type": "markdown",
   "id": "df0b3842-9c5c-4b10-b9a8-d9596ca6ffc0",
   "metadata": {},
   "source": [
    "### 3. Methods"
   ]
  },
  {
   "cell_type": "markdown",
   "id": "20d43283-b2c0-4100-b6dc-dcc1fd518561",
   "metadata": {},
   "source": [
    "In reality, the cut grades are classified based on how well the diamond can reflect light. x, y, z, depth, and table are symmetry factors and should be considered as predictors. However, based on the graphs we have plotted, the associations are weak. Therefore, we only choose depth and table as predictors. If the accuracy is not desirable, we will add the x, y, and z in, and compare the accuracy. We will visualize the results by plotting the accuracy graphs. We hypothesize the addition of x, y, and z columns will not affect the accuracy too much because the boxes of each type looks almost identical. "
   ]
  },
  {
   "cell_type": "code",
   "execution_count": null,
   "id": "eef10bb8-6e76-4368-839a-792dd90605c6",
   "metadata": {},
   "outputs": [],
   "source": [
    "set.seed(2023)\n",
    "\n",
    "diamond_spec <- nearest_neighbor(weight_func = \"rectangular\", neighbors = tune()) |>\n",
    "  set_engine(\"kknn\") |>\n",
    "  set_mode(\"classification\")\n",
    "\n",
    "diamond_recipe <- recipe(cut ~ depth, table, data = diamond_training) |>\n",
    "step_scale(all_predictors()) |>\n",
    "step_center(all_predictors())\n",
    "\n",
    "\n",
    "k_vals <- tibble(neighbors = seq(from = 1, to = 100, by = 5))\n",
    "diamond_vfold_5 <- vfold_cv(diamond_training, v = 5, strata = cut)\n",
    "\n",
    "diamond_fit_5 <- workflow() |>\n",
    "  add_recipe(cancer_recipe) |>\n",
    "  add_model(knn_spec) |>\n",
    "  fit_resamples(resamples = diamond_vfold_5)\n",
    "\n",
    "diamond_vfold_5_metrics <- diamond_fit_5 |>\n",
    "collect_metrics()\n"
   ]
  },
  {
   "cell_type": "code",
   "execution_count": null,
   "id": "cf831553-8d6b-4ee8-9e44-80fdaf56f4ba",
   "metadata": {},
   "outputs": [],
   "source": [
    "set.seed(2023)\n",
    "diamond_vfold_10 <- vfold_cv(diamond_training, v = 10, strata = cut)\n",
    "\n",
    "diamond_fit_10 <- workflow() |>\n",
    "  add_recipe(cancer_recipe) |>\n",
    "  add_model(knn_spec) |>\n",
    "  fit_resamples(resamples = diamond_vfold_10)\n",
    "\n",
    "diamond_vfold_10_metrics <- diamond_fit_10 |>\n",
    "collect_metrics()"
   ]
  },
  {
   "cell_type": "code",
   "execution_count": null,
   "id": "267846d6-1968-485d-a015-d0ac53c0575d",
   "metadata": {},
   "outputs": [],
   "source": [
    "diamond_vfold_5_metrics\n",
    "diamond_vfold_10_metrics"
   ]
  },
  {
   "cell_type": "markdown",
   "id": "9858af35-e17f-4d78-81fb-5442b2bbb757",
   "metadata": {},
   "source": [
    "### 4 Expected outcomes and significance"
   ]
  },
  {
   "cell_type": "markdown",
   "id": "92e754c5-4279-41eb-aeb1-b1f5900438f1",
   "metadata": {},
   "source": [
    "The expected outcome is that the cut grade prediction accuracy will be low, as the associations are not strong. In terms of impacts, if the accuracy is desirable, the model can speed up the process of grading the diamonds.\n",
    "\n",
    "**Future questions** \n",
    "1. What factors do affect the cut of the diamond?\n",
    "2. How can we improve the prediction accuracy? "
   ]
  },
  {
   "cell_type": "markdown",
   "id": "2008bb40-36ff-4a2f-8e48-4335e96774b1",
   "metadata": {},
   "source": [
    "### References"
   ]
  },
  {
   "cell_type": "markdown",
   "id": "ae790a37-a554-47e8-919c-ed2693d159f8",
   "metadata": {
    "tags": []
   },
   "source": [
    "1. Why Is A Diamond’s Cut Important?. (n.d.). BRILLIANT EARTH. https://www.brilliantearth.com/en-ca/diamond/buying-guide/cut/"
   ]
  }
 ],
 "metadata": {
  "kernelspec": {
   "display_name": "R",
   "language": "R",
   "name": "ir"
  },
  "language_info": {
   "codemirror_mode": "r",
   "file_extension": ".r",
   "mimetype": "text/x-r-source",
   "name": "R",
   "pygments_lexer": "r",
   "version": "4.2.2"
  }
 },
 "nbformat": 4,
 "nbformat_minor": 5
}
